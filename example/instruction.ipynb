{                                                                                                                                         
 "cells": [                                                                                                                               
  {                                                                                                                                       
   "cell_type": "code",                                                                                                                   
   "execution_count": 1,                                                                                                                  
   "metadata": {                                                                                                                          
    "collapsed": true                                                                                                                     
   },                                                                                                                                     
   "outputs": [],                                                                                                                         
   "source": [                                                                                                                            
    "import openfisca_core"                                                                                                               
   ]                                                                                                                                      
  },                      
{                                                                                                                                       
   "cell_type": "code",                                                                                                                   
   "execution_count": 2,                                                                                                                  
   "metadata": {                                                                                                                          
    "collapsed": true                                                                                                                     
   },                                                                                                                                     
   "outputs": [],                                                                                                                         
   "source": [                                                                                                                            
    "import openfisca_france"                                                                                                             
   ]                                                                                                                                      
  },                     
